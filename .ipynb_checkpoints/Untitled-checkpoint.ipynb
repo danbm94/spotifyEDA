{
  "nbformat": 4,
  "nbformat_minor": 0,
  "metadata": {
    "kernelspec": {
      "display_name": "Python 3",
      "language": "python",
      "name": "python3"
    },
    "language_info": {
      "codemirror_mode": {
        "name": "ipython",
        "version": 3
      },
      "file_extension": ".py",
      "mimetype": "text/x-python",
      "name": "python",
      "nbconvert_exporter": "python",
      "pygments_lexer": "ipython3",
      "version": "3.7.6"
    },
    "colab": {
      "name": "Untitled-checkpoint.ipynb",
      "provenance": []
    }
  },
  "cells": [
    {
      "cell_type": "markdown",
      "metadata": {
        "id": "ivd6GsktvuCm"
      },
      "source": [
        "# Spotify Streaming History"
      ]
    },
    {
      "cell_type": "code",
      "metadata": {
        "id": "tsnYXhXRw05K",
        "outputId": "3b90717d-98a6-461d-d031-3f49071fb407",
        "colab": {
          "base_uri": "https://localhost:8080/"
        }
      },
      "source": [
        "!pip install spotipy\n",
        "!pip install lyricsgenius"
      ],
      "execution_count": 55,
      "outputs": [
        {
          "output_type": "stream",
          "text": [
            "Requirement already satisfied: spotipy in /usr/local/lib/python3.7/dist-packages (2.18.0)\n",
            "Requirement already satisfied: requests>=2.25.0 in /usr/local/lib/python3.7/dist-packages (from spotipy) (2.25.1)\n",
            "Requirement already satisfied: six>=1.15.0 in /usr/local/lib/python3.7/dist-packages (from spotipy) (1.15.0)\n",
            "Requirement already satisfied: urllib3>=1.26.0 in /usr/local/lib/python3.7/dist-packages (from spotipy) (1.26.4)\n",
            "Requirement already satisfied: idna<3,>=2.5 in /usr/local/lib/python3.7/dist-packages (from requests>=2.25.0->spotipy) (2.10)\n",
            "Requirement already satisfied: certifi>=2017.4.17 in /usr/local/lib/python3.7/dist-packages (from requests>=2.25.0->spotipy) (2020.12.5)\n",
            "Requirement already satisfied: chardet<5,>=3.0.2 in /usr/local/lib/python3.7/dist-packages (from requests>=2.25.0->spotipy) (3.0.4)\n",
            "Collecting lyricsgenius\n",
            "\u001b[?25l  Downloading https://files.pythonhosted.org/packages/0d/32/be32f6922f70fd1b9900b50b228f6585cd60a96bdf03589df738f627d388/lyricsgenius-3.0.1-py3-none-any.whl (59kB)\n",
            "\u001b[K     |████████████████████████████████| 61kB 2.9MB/s \n",
            "\u001b[?25hRequirement already satisfied: requests>=2.20.0 in /usr/local/lib/python3.7/dist-packages (from lyricsgenius) (2.25.1)\n",
            "Requirement already satisfied: beautifulsoup4>=4.6.0 in /usr/local/lib/python3.7/dist-packages (from lyricsgenius) (4.6.3)\n",
            "Requirement already satisfied: idna<3,>=2.5 in /usr/local/lib/python3.7/dist-packages (from requests>=2.20.0->lyricsgenius) (2.10)\n",
            "Requirement already satisfied: chardet<5,>=3.0.2 in /usr/local/lib/python3.7/dist-packages (from requests>=2.20.0->lyricsgenius) (3.0.4)\n",
            "Requirement already satisfied: urllib3<1.27,>=1.21.1 in /usr/local/lib/python3.7/dist-packages (from requests>=2.20.0->lyricsgenius) (1.26.4)\n",
            "Requirement already satisfied: certifi>=2017.4.17 in /usr/local/lib/python3.7/dist-packages (from requests>=2.20.0->lyricsgenius) (2020.12.5)\n",
            "Installing collected packages: lyricsgenius\n",
            "Successfully installed lyricsgenius-3.0.1\n"
          ],
          "name": "stdout"
        }
      ]
    },
    {
      "cell_type": "code",
      "metadata": {
        "id": "hKX0q_b7vuCu"
      },
      "source": [
        "import pandas as pd \n",
        "import numpy as np \n",
        "import ast\n",
        "from typing import List\n",
        "from os import listdir\n",
        "import spotipy\n",
        "from spotipy.oauth2 import SpotifyClientCredentials\n",
        "import spotipy.util as util\n",
        "from spotipy import SpotifyOAuth, CacheFileHandler\n",
        "import lyricsgenius as lg"
      ],
      "execution_count": 56,
      "outputs": []
    },
    {
      "cell_type": "code",
      "metadata": {
        "id": "vkfzf4g9xUI9"
      },
      "source": [
        "url=\"https://raw.githubusercontent.com/danbm94/spotifyEDA/main/StreamingHistory0.json\"\n",
        "music= pd.read_json(url)\n",
        "url1=\"https://raw.githubusercontent.com/danbm94/spotifyEDA/main/StreamingHistory1.json\"\n",
        "music1=pd.read_json(url1)"
      ],
      "execution_count": 6,
      "outputs": []
    },
    {
      "cell_type": "code",
      "metadata": {
        "id": "A4F6OJV2zlBz"
      },
      "source": [
        "df=music.append(music1)"
      ],
      "execution_count": 11,
      "outputs": []
    },
    {
      "cell_type": "code",
      "metadata": {
        "id": "IGUcgEfM1GLw"
      },
      "source": [
        "df['endTime']=pd.to_datetime(df['endTime'],infer_datetime_format=True, errors='coerce')\n",
        "cats=['artistName','trackName']\n",
        "df[cats] = df[cats].astype('category')"
      ],
      "execution_count": 15,
      "outputs": []
    },
    {
      "cell_type": "code",
      "metadata": {
        "id": "HvjDSTLg2Xam"
      },
      "source": [
        "df= df[df['msPlayed']>1000]"
      ],
      "execution_count": 21,
      "outputs": []
    },
    {
      "cell_type": "code",
      "metadata": {
        "id": "KbtulRXg29Zp",
        "outputId": "c99393bd-2ac0-482f-fa4e-49c425dc1a26",
        "colab": {
          "base_uri": "https://localhost:8080/"
        }
      },
      "source": [
        "df.info()"
      ],
      "execution_count": 22,
      "outputs": [
        {
          "output_type": "stream",
          "text": [
            "<class 'pandas.core.frame.DataFrame'>\n",
            "Int64Index: 15069 entries, 0 to 5746\n",
            "Data columns (total 4 columns):\n",
            " #   Column      Non-Null Count  Dtype         \n",
            "---  ------      --------------  -----         \n",
            " 0   endTime     15069 non-null  datetime64[ns]\n",
            " 1   artistName  15069 non-null  category      \n",
            " 2   trackName   15069 non-null  category      \n",
            " 3   msPlayed    15069 non-null  int64         \n",
            "dtypes: category(2), datetime64[ns](1), int64(1)\n",
            "memory usage: 710.1 KB\n"
          ],
          "name": "stdout"
        }
      ]
    },
    {
      "cell_type": "code",
      "metadata": {
        "id": "YG45UexgNpZ9"
      },
      "source": [
        "genius = lg.Genius('JSOKdC12oh_Ls6-G7VHnUyIpbHen9XNakCfiDPiOwS1CL9OevzOijj_COIcSBFbB', skip_non_songs=True, excluded_terms=[\"(Remix)\", \"(Live)\"], remove_section_headers=True)"
      ],
      "execution_count": 57,
      "outputs": []
    },
    {
      "cell_type": "code",
      "metadata": {
        "id": "gLIn63UaN2Au"
      },
      "source": [
        "top50=df['artistName'].value_counts()"
      ],
      "execution_count": 58,
      "outputs": []
    },
    {
      "cell_type": "code",
      "metadata": {
        "id": "SjCj966COKXO"
      },
      "source": [
        "top50=top50[:50,]"
      ],
      "execution_count": 61,
      "outputs": []
    },
    {
      "cell_type": "code",
      "metadata": {
        "id": "H88wsrAOObQ8"
      },
      "source": [
        "def get_lyrics(ser, k):\n",
        "    c = 0\n",
        "    for name in ser:\n",
        "        try:\n",
        "            songs = (genius.search_artist(name, max_songs=k, sort='popularity')).songs\n",
        "            s = [song.lyrics for song in songs]\n",
        "            file.write(\"\\n \\n   <|endoftext|>   \\n \\n\".join(s))\n",
        "            c += 1\n",
        "            print(f\"Songs grabbed:{len(s)}\")\n",
        "        except:\n",
        "            print(f\"some exception at {name}: {c}\")"
      ],
      "execution_count": 62,
      "outputs": []
    },
    {
      "cell_type": "code",
      "metadata": {
        "id": "W7cbu_GjPvc9"
      },
      "source": [
        "get_lyrics(top50)"
      ],
      "execution_count": null,
      "outputs": []
    },
    {
      "cell_type": "code",
      "metadata": {
        "id": "kYyyKhWgP3Vz",
        "outputId": "dfe57e8f-cf2f-41bb-9284-4e3867ac4937",
        "colab": {
          "base_uri": "https://localhost:8080/",
          "height": 419
        }
      },
      "source": [
        "df.loc[df['artistName']==\"Arctic Monkeys\"]"
      ],
      "execution_count": 71,
      "outputs": [
        {
          "output_type": "execute_result",
          "data": {
            "text/html": [
              "<div>\n",
              "<style scoped>\n",
              "    .dataframe tbody tr th:only-of-type {\n",
              "        vertical-align: middle;\n",
              "    }\n",
              "\n",
              "    .dataframe tbody tr th {\n",
              "        vertical-align: top;\n",
              "    }\n",
              "\n",
              "    .dataframe thead th {\n",
              "        text-align: right;\n",
              "    }\n",
              "</style>\n",
              "<table border=\"1\" class=\"dataframe\">\n",
              "  <thead>\n",
              "    <tr style=\"text-align: right;\">\n",
              "      <th></th>\n",
              "      <th>endTime</th>\n",
              "      <th>artistName</th>\n",
              "      <th>trackName</th>\n",
              "      <th>msPlayed</th>\n",
              "    </tr>\n",
              "  </thead>\n",
              "  <tbody>\n",
              "    <tr>\n",
              "      <th>2</th>\n",
              "      <td>2019-12-08 11:06:00</td>\n",
              "      <td>Arctic Monkeys</td>\n",
              "      <td>Despair In The Departure Lounge</td>\n",
              "      <td>2330</td>\n",
              "    </tr>\n",
              "    <tr>\n",
              "      <th>135</th>\n",
              "      <td>2019-12-09 12:10:00</td>\n",
              "      <td>Arctic Monkeys</td>\n",
              "      <td>I Bet You Look Good On The Dancefloor</td>\n",
              "      <td>173680</td>\n",
              "    </tr>\n",
              "    <tr>\n",
              "      <th>209</th>\n",
              "      <td>2019-12-10 09:14:00</td>\n",
              "      <td>Arctic Monkeys</td>\n",
              "      <td>Anyways</td>\n",
              "      <td>221229</td>\n",
              "    </tr>\n",
              "    <tr>\n",
              "      <th>213</th>\n",
              "      <td>2019-12-10 11:01:00</td>\n",
              "      <td>Arctic Monkeys</td>\n",
              "      <td>Stop The World I Wanna Get Off With You</td>\n",
              "      <td>151619</td>\n",
              "    </tr>\n",
              "    <tr>\n",
              "      <th>214</th>\n",
              "      <td>2019-12-10 13:43:00</td>\n",
              "      <td>Arctic Monkeys</td>\n",
              "      <td>Stop The World I Wanna Get Off With You</td>\n",
              "      <td>3240</td>\n",
              "    </tr>\n",
              "    <tr>\n",
              "      <th>...</th>\n",
              "      <td>...</td>\n",
              "      <td>...</td>\n",
              "      <td>...</td>\n",
              "      <td>...</td>\n",
              "    </tr>\n",
              "    <tr>\n",
              "      <th>5370</th>\n",
              "      <td>2020-11-30 07:26:00</td>\n",
              "      <td>Arctic Monkeys</td>\n",
              "      <td>The World's First Ever Monster Truck Front Flip</td>\n",
              "      <td>1416</td>\n",
              "    </tr>\n",
              "    <tr>\n",
              "      <th>5371</th>\n",
              "      <td>2020-11-30 07:29:00</td>\n",
              "      <td>Arctic Monkeys</td>\n",
              "      <td>The World's First Ever Monster Truck Front Flip</td>\n",
              "      <td>180013</td>\n",
              "    </tr>\n",
              "    <tr>\n",
              "      <th>5590</th>\n",
              "      <td>2020-12-04 17:10:00</td>\n",
              "      <td>Arctic Monkeys</td>\n",
              "      <td>No Buses</td>\n",
              "      <td>197320</td>\n",
              "    </tr>\n",
              "    <tr>\n",
              "      <th>5624</th>\n",
              "      <td>2020-12-05 11:49:00</td>\n",
              "      <td>Arctic Monkeys</td>\n",
              "      <td>Despair In The Departure Lounge</td>\n",
              "      <td>202853</td>\n",
              "    </tr>\n",
              "    <tr>\n",
              "      <th>5738</th>\n",
              "      <td>2020-12-07 19:42:00</td>\n",
              "      <td>Arctic Monkeys</td>\n",
              "      <td>No Buses</td>\n",
              "      <td>197320</td>\n",
              "    </tr>\n",
              "  </tbody>\n",
              "</table>\n",
              "<p>614 rows × 4 columns</p>\n",
              "</div>"
            ],
            "text/plain": [
              "                 endTime  ... msPlayed\n",
              "2    2019-12-08 11:06:00  ...     2330\n",
              "135  2019-12-09 12:10:00  ...   173680\n",
              "209  2019-12-10 09:14:00  ...   221229\n",
              "213  2019-12-10 11:01:00  ...   151619\n",
              "214  2019-12-10 13:43:00  ...     3240\n",
              "...                  ...  ...      ...\n",
              "5370 2020-11-30 07:26:00  ...     1416\n",
              "5371 2020-11-30 07:29:00  ...   180013\n",
              "5590 2020-12-04 17:10:00  ...   197320\n",
              "5624 2020-12-05 11:49:00  ...   202853\n",
              "5738 2020-12-07 19:42:00  ...   197320\n",
              "\n",
              "[614 rows x 4 columns]"
            ]
          },
          "metadata": {
            "tags": []
          },
          "execution_count": 71
        }
      ]
    },
    {
      "cell_type": "markdown",
      "metadata": {
        "id": "ou3rcehnNioa"
      },
      "source": [
        "## Spotiy authorization (still not working)"
      ]
    },
    {
      "cell_type": "code",
      "metadata": {
        "id": "P3_bgI8b3OeI"
      },
      "source": [
        "client_id= \"3bd02289c7fc487f9f57235e393dc2fe\"\n",
        "client_secret= 'be027daaec9940da8964ff221ac2857b'\n",
        "username= \"1196124016\"\n",
        "client_credentials_manager = SpotifyClientCredentials(client_id=client_id, client_secret=client_secret)\n",
        "\n",
        "sp = spotipy.Spotify(client_credentials_manager=client_credentials_manager) #spotify object to access API"
      ],
      "execution_count": 40,
      "outputs": []
    },
    {
      "cell_type": "code",
      "metadata": {
        "id": "OrrctW265J5x"
      },
      "source": [
        "scope = \"user-library-read user-read-recently-played user-top-read playlist-modify-public playlist-read-private playlist-read-collaborative\"\n",
        "redirect_uri= \"https://github.com/danbm94/spotifyEDA\""
      ],
      "execution_count": 46,
      "outputs": []
    },
    {
      "cell_type": "code",
      "metadata": {
        "id": "HSeXJe8m65ti"
      },
      "source": [
        "spotify = spotipy.Spotify(\n",
        "    auth_manager=SpotifyOAuth(\n",
        "        client_id=client_id,\n",
        "        client_secret= client_secret,\n",
        "        redirect_uri=redirect_uri,\n",
        "        scope=scope,\n",
        "        cache_handler=CacheFileHandler(username=username,)\n",
        "    )\n",
        ")\n"
      ],
      "execution_count": 48,
      "outputs": []
    },
    {
      "cell_type": "code",
      "metadata": {
        "id": "cCo1aL8VG4Uy"
      },
      "source": [
        "def authenticate(redirect_uri, client_cred_manager, username, scope,client_id,client_secret):\n",
        "    \"\"\"\n",
        "    Authenticates a user for a given spotify app.\n",
        "    Parameters\n",
        "    ----------\n",
        "    redirect_uri : the redirect uri of the spotify app\n",
        "    client_cred_manager : SpotifyClientCredentials containing client_id and client_secret\n",
        "    username: spotify username\n",
        "    scope: authorization scopes as a string\n",
        "    client_id: spotify app client_id \n",
        "    client_secret: spotify app client_secret\n",
        "    Returns\n",
        "    -------\n",
        "    sp: Spotify auth-token (SpotifyOAuth)\n",
        "    \"\"\"\n",
        "\n",
        "    sp = spotipy.Spotify(client_credentials_manager = client_cred_manager)\n",
        "    token = util.prompt_for_user_token(username, scope, client_id, client_secret, redirect_uri)\n",
        "    if token:\n",
        "        sp = spotipy.Spotify(auth=token)\n",
        "    else:\n",
        "        print(\"Can't get token for\", username)\n",
        "    return sp"
      ],
      "execution_count": 50,
      "outputs": []
    },
    {
      "cell_type": "code",
      "metadata": {
        "id": "X4Bx57oYIGQj",
        "outputId": "3af7dcc2-a4bd-4559-e377-f398c877c1bf",
        "colab": {
          "base_uri": "https://localhost:8080/",
          "height": 164
        }
      },
      "source": [
        "spotify.get_access_token()"
      ],
      "execution_count": 54,
      "outputs": [
        {
          "output_type": "error",
          "ename": "AttributeError",
          "evalue": "ignored",
          "traceback": [
            "\u001b[0;31m---------------------------------------------------------------------------\u001b[0m",
            "\u001b[0;31mAttributeError\u001b[0m                            Traceback (most recent call last)",
            "\u001b[0;32m<ipython-input-54-d606cb065db7>\u001b[0m in \u001b[0;36m<module>\u001b[0;34m()\u001b[0m\n\u001b[0;32m----> 1\u001b[0;31m \u001b[0mspotify\u001b[0m\u001b[0;34m.\u001b[0m\u001b[0mget_access_token\u001b[0m\u001b[0;34m(\u001b[0m\u001b[0;34m)\u001b[0m\u001b[0;34m\u001b[0m\u001b[0;34m\u001b[0m\u001b[0m\n\u001b[0m",
            "\u001b[0;31mAttributeError\u001b[0m: 'Spotify' object has no attribute 'get_access_token'"
          ]
        }
      ]
    },
    {
      "cell_type": "code",
      "metadata": {
        "id": "-MHTXEuCJEsf"
      },
      "source": [
        ""
      ],
      "execution_count": null,
      "outputs": []
    }
  ]
}