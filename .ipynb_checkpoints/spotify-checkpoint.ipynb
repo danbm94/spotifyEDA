{
 "cells": [
  {
   "cell_type": "markdown",
   "metadata": {
    "id": "ivd6GsktvuCm"
   },
   "source": [
    "# Spotify Streaming History"
   ]
  },
  {
   "cell_type": "code",
   "execution_count": 1,
   "metadata": {
    "colab": {
     "base_uri": "https://localhost:8080/"
    },
    "id": "tsnYXhXRw05K",
    "outputId": "ae006b9c-7d76-43d0-9f3a-43db5c58d539"
   },
   "outputs": [
    {
     "name": "stdout",
     "output_type": "stream",
     "text": [
      "Requirement already satisfied: spotipy in /Users/daniel.bustillo/opt/anaconda3/lib/python3.7/site-packages (2.18.0)\n",
      "Requirement already satisfied: six>=1.15.0 in /Users/daniel.bustillo/opt/anaconda3/lib/python3.7/site-packages (from spotipy) (1.15.0)\n",
      "Requirement already satisfied: urllib3>=1.26.0 in /Users/daniel.bustillo/opt/anaconda3/lib/python3.7/site-packages (from spotipy) (1.26.4)\n",
      "Requirement already satisfied: requests>=2.25.0 in /Users/daniel.bustillo/opt/anaconda3/lib/python3.7/site-packages (from spotipy) (2.25.1)\n",
      "Requirement already satisfied: certifi>=2017.4.17 in /Users/daniel.bustillo/opt/anaconda3/lib/python3.7/site-packages (from requests>=2.25.0->spotipy) (2020.12.5)\n",
      "Requirement already satisfied: chardet<5,>=3.0.2 in /Users/daniel.bustillo/opt/anaconda3/lib/python3.7/site-packages (from requests>=2.25.0->spotipy) (4.0.0)\n",
      "Requirement already satisfied: idna<3,>=2.5 in /Users/daniel.bustillo/opt/anaconda3/lib/python3.7/site-packages (from requests>=2.25.0->spotipy) (2.10)\n",
      "Requirement already satisfied: lyricsgenius in /Users/daniel.bustillo/opt/anaconda3/lib/python3.7/site-packages (3.0.1)\n",
      "Requirement already satisfied: beautifulsoup4>=4.6.0 in /Users/daniel.bustillo/opt/anaconda3/lib/python3.7/site-packages (from lyricsgenius) (4.9.3)\n",
      "Requirement already satisfied: requests>=2.20.0 in /Users/daniel.bustillo/opt/anaconda3/lib/python3.7/site-packages (from lyricsgenius) (2.25.1)\n",
      "Requirement already satisfied: soupsieve>1.2 in /Users/daniel.bustillo/opt/anaconda3/lib/python3.7/site-packages (from beautifulsoup4>=4.6.0->lyricsgenius) (2.2.1)\n",
      "Requirement already satisfied: urllib3<1.27,>=1.21.1 in /Users/daniel.bustillo/opt/anaconda3/lib/python3.7/site-packages (from requests>=2.20.0->lyricsgenius) (1.26.4)\n",
      "Requirement already satisfied: chardet<5,>=3.0.2 in /Users/daniel.bustillo/opt/anaconda3/lib/python3.7/site-packages (from requests>=2.20.0->lyricsgenius) (4.0.0)\n",
      "Requirement already satisfied: idna<3,>=2.5 in /Users/daniel.bustillo/opt/anaconda3/lib/python3.7/site-packages (from requests>=2.20.0->lyricsgenius) (2.10)\n",
      "Requirement already satisfied: certifi>=2017.4.17 in /Users/daniel.bustillo/opt/anaconda3/lib/python3.7/site-packages (from requests>=2.20.0->lyricsgenius) (2020.12.5)\n"
     ]
    }
   ],
   "source": [
    "!pip install spotipy\n",
    "!pip install lyricsgenius"
   ]
  },
  {
   "cell_type": "code",
   "execution_count": 1,
   "metadata": {
    "id": "hKX0q_b7vuCu"
   },
   "outputs": [],
   "source": [
    "import pandas as pd \n",
    "import numpy as np \n",
    "import matplotlib.pyplot as plt\n",
    "import ast\n",
    "from typing import List\n",
    "from os import listdir\n",
    "import spotipy\n",
    "from spotipy.oauth2 import SpotifyClientCredentials\n",
    "import spotipy.util as util\n",
    "from spotipy import SpotifyOAuth, CacheFileHandler\n",
    "import lyricsgenius as lg\n",
    "import requests"
   ]
  },
  {
   "cell_type": "code",
   "execution_count": 2,
   "metadata": {
    "id": "vkfzf4g9xUI9"
   },
   "outputs": [],
   "source": [
    "url=\"https://raw.githubusercontent.com/danbm94/spotifyEDA/main/StreamingHistory0.json?token=AMNLDN74VPYBAX7YJEKEMYLATJ5A4\"\n",
    "music= pd.read_json(url)\n",
    "url1=\"https://raw.githubusercontent.com/danbm94/spotifyEDA/main/StreamingHistory1.json?token=AMNLDNYDY2HIC26J2NXD6XDATJ5C6\"\n",
    "music1=pd.read_json(url1)"
   ]
  },
  {
   "cell_type": "code",
   "execution_count": 3,
   "metadata": {
    "id": "A4F6OJV2zlBz"
   },
   "outputs": [],
   "source": [
    "df=music.append(music1)"
   ]
  },
  {
   "cell_type": "code",
   "execution_count": 4,
   "metadata": {
    "id": "IGUcgEfM1GLw"
   },
   "outputs": [],
   "source": [
    "df['endTime']=pd.to_datetime(df['endTime'],infer_datetime_format=True, errors='coerce')\n",
    "cats=['artistName','trackName']\n",
    "df[cats] = df[cats].astype('category')"
   ]
  },
  {
   "cell_type": "code",
   "execution_count": 5,
   "metadata": {
    "id": "HvjDSTLg2Xam"
   },
   "outputs": [],
   "source": [
    "df= df[df['msPlayed']>1000]"
   ]
  },
  {
   "cell_type": "code",
   "execution_count": 6,
   "metadata": {
    "colab": {
     "base_uri": "https://localhost:8080/"
    },
    "id": "KbtulRXg29Zp",
    "outputId": "ecd820b7-2856-4552-d91c-dd94d3ca9270"
   },
   "outputs": [
    {
     "name": "stdout",
     "output_type": "stream",
     "text": [
      "<class 'pandas.core.frame.DataFrame'>\n",
      "Int64Index: 15069 entries, 0 to 5746\n",
      "Data columns (total 4 columns):\n",
      " #   Column      Non-Null Count  Dtype         \n",
      "---  ------      --------------  -----         \n",
      " 0   endTime     15069 non-null  datetime64[ns]\n",
      " 1   artistName  15069 non-null  category      \n",
      " 2   trackName   15069 non-null  category      \n",
      " 3   msPlayed    15069 non-null  int64         \n",
      "dtypes: category(2), datetime64[ns](1), int64(1)\n",
      "memory usage: 663.7 KB\n"
     ]
    }
   ],
   "source": [
    "df.info()"
   ]
  },
  {
   "cell_type": "code",
   "execution_count": 7,
   "metadata": {
    "id": "YG45UexgNpZ9"
   },
   "outputs": [],
   "source": [
    "genius = lg.Genius('JSOKdC12oh_Ls6-G7VHnUyIpbHen9XNakCfiDPiOwS1CL9OevzOijj_COIcSBFbB', skip_non_songs=True, excluded_terms=[\"(Remix)\", \"(Live)\"], remove_section_headers=True)"
   ]
  },
  {
   "cell_type": "code",
   "execution_count": 8,
   "metadata": {
    "id": "gLIn63UaN2Au"
   },
   "outputs": [],
   "source": [
    "top50=df['artistName'].value_counts()"
   ]
  },
  {
   "cell_type": "code",
   "execution_count": 9,
   "metadata": {
    "id": "SjCj966COKXO"
   },
   "outputs": [],
   "source": [
    "top50=top50[:50,]"
   ]
  },
  {
   "cell_type": "code",
   "execution_count": 11,
   "metadata": {
    "id": "H88wsrAOObQ8"
   },
   "outputs": [],
   "source": [
    "def get_lyrics(ser, k):\n",
    "    c = 0\n",
    "    for name in ser:\n",
    "        try:\n",
    "            songs = (genius.search_artist(name, max_songs=k, sort='popularity')).songs\n",
    "            s = [song.lyrics for song in songs]\n",
    "            file.write(\"\\n \\n   <|endoftext|>   \\n \\n\".join(s))\n",
    "            c += 1\n",
    "            print(f\"Songs grabbed:{len(s)}\")\n",
    "        except:\n",
    "            print(f\"some exception at {name}: {c}\")"
   ]
  },
  {
   "cell_type": "code",
   "execution_count": 12,
   "metadata": {
    "colab": {
     "base_uri": "https://localhost:8080/",
     "height": 419
    },
    "id": "kYyyKhWgP3Vz",
    "outputId": "dfe57e8f-cf2f-41bb-9284-4e3867ac4937"
   },
   "outputs": [
    {
     "data": {
      "text/html": [
       "<div>\n",
       "<style scoped>\n",
       "    .dataframe tbody tr th:only-of-type {\n",
       "        vertical-align: middle;\n",
       "    }\n",
       "\n",
       "    .dataframe tbody tr th {\n",
       "        vertical-align: top;\n",
       "    }\n",
       "\n",
       "    .dataframe thead th {\n",
       "        text-align: right;\n",
       "    }\n",
       "</style>\n",
       "<table border=\"1\" class=\"dataframe\">\n",
       "  <thead>\n",
       "    <tr style=\"text-align: right;\">\n",
       "      <th></th>\n",
       "      <th>endTime</th>\n",
       "      <th>artistName</th>\n",
       "      <th>trackName</th>\n",
       "      <th>msPlayed</th>\n",
       "    </tr>\n",
       "  </thead>\n",
       "  <tbody>\n",
       "    <tr>\n",
       "      <th>2</th>\n",
       "      <td>2019-12-08 11:06:00</td>\n",
       "      <td>Arctic Monkeys</td>\n",
       "      <td>Despair In The Departure Lounge</td>\n",
       "      <td>2330</td>\n",
       "    </tr>\n",
       "    <tr>\n",
       "      <th>135</th>\n",
       "      <td>2019-12-09 12:10:00</td>\n",
       "      <td>Arctic Monkeys</td>\n",
       "      <td>I Bet You Look Good On The Dancefloor</td>\n",
       "      <td>173680</td>\n",
       "    </tr>\n",
       "    <tr>\n",
       "      <th>209</th>\n",
       "      <td>2019-12-10 09:14:00</td>\n",
       "      <td>Arctic Monkeys</td>\n",
       "      <td>Anyways</td>\n",
       "      <td>221229</td>\n",
       "    </tr>\n",
       "    <tr>\n",
       "      <th>213</th>\n",
       "      <td>2019-12-10 11:01:00</td>\n",
       "      <td>Arctic Monkeys</td>\n",
       "      <td>Stop The World I Wanna Get Off With You</td>\n",
       "      <td>151619</td>\n",
       "    </tr>\n",
       "    <tr>\n",
       "      <th>214</th>\n",
       "      <td>2019-12-10 13:43:00</td>\n",
       "      <td>Arctic Monkeys</td>\n",
       "      <td>Stop The World I Wanna Get Off With You</td>\n",
       "      <td>3240</td>\n",
       "    </tr>\n",
       "    <tr>\n",
       "      <th>...</th>\n",
       "      <td>...</td>\n",
       "      <td>...</td>\n",
       "      <td>...</td>\n",
       "      <td>...</td>\n",
       "    </tr>\n",
       "    <tr>\n",
       "      <th>5370</th>\n",
       "      <td>2020-11-30 07:26:00</td>\n",
       "      <td>Arctic Monkeys</td>\n",
       "      <td>The World's First Ever Monster Truck Front Flip</td>\n",
       "      <td>1416</td>\n",
       "    </tr>\n",
       "    <tr>\n",
       "      <th>5371</th>\n",
       "      <td>2020-11-30 07:29:00</td>\n",
       "      <td>Arctic Monkeys</td>\n",
       "      <td>The World's First Ever Monster Truck Front Flip</td>\n",
       "      <td>180013</td>\n",
       "    </tr>\n",
       "    <tr>\n",
       "      <th>5590</th>\n",
       "      <td>2020-12-04 17:10:00</td>\n",
       "      <td>Arctic Monkeys</td>\n",
       "      <td>No Buses</td>\n",
       "      <td>197320</td>\n",
       "    </tr>\n",
       "    <tr>\n",
       "      <th>5624</th>\n",
       "      <td>2020-12-05 11:49:00</td>\n",
       "      <td>Arctic Monkeys</td>\n",
       "      <td>Despair In The Departure Lounge</td>\n",
       "      <td>202853</td>\n",
       "    </tr>\n",
       "    <tr>\n",
       "      <th>5738</th>\n",
       "      <td>2020-12-07 19:42:00</td>\n",
       "      <td>Arctic Monkeys</td>\n",
       "      <td>No Buses</td>\n",
       "      <td>197320</td>\n",
       "    </tr>\n",
       "  </tbody>\n",
       "</table>\n",
       "<p>614 rows × 4 columns</p>\n",
       "</div>"
      ],
      "text/plain": [
       "                 endTime      artistName  \\\n",
       "2    2019-12-08 11:06:00  Arctic Monkeys   \n",
       "135  2019-12-09 12:10:00  Arctic Monkeys   \n",
       "209  2019-12-10 09:14:00  Arctic Monkeys   \n",
       "213  2019-12-10 11:01:00  Arctic Monkeys   \n",
       "214  2019-12-10 13:43:00  Arctic Monkeys   \n",
       "...                  ...             ...   \n",
       "5370 2020-11-30 07:26:00  Arctic Monkeys   \n",
       "5371 2020-11-30 07:29:00  Arctic Monkeys   \n",
       "5590 2020-12-04 17:10:00  Arctic Monkeys   \n",
       "5624 2020-12-05 11:49:00  Arctic Monkeys   \n",
       "5738 2020-12-07 19:42:00  Arctic Monkeys   \n",
       "\n",
       "                                            trackName  msPlayed  \n",
       "2                     Despair In The Departure Lounge      2330  \n",
       "135             I Bet You Look Good On The Dancefloor    173680  \n",
       "209                                           Anyways    221229  \n",
       "213           Stop The World I Wanna Get Off With You    151619  \n",
       "214           Stop The World I Wanna Get Off With You      3240  \n",
       "...                                               ...       ...  \n",
       "5370  The World's First Ever Monster Truck Front Flip      1416  \n",
       "5371  The World's First Ever Monster Truck Front Flip    180013  \n",
       "5590                                         No Buses    197320  \n",
       "5624                  Despair In The Departure Lounge    202853  \n",
       "5738                                         No Buses    197320  \n",
       "\n",
       "[614 rows x 4 columns]"
      ]
     },
     "execution_count": 12,
     "metadata": {},
     "output_type": "execute_result"
    }
   ],
   "source": [
    "df.loc[df['artistName']==\"Arctic Monkeys\"]"
   ]
  },
  {
   "cell_type": "code",
   "execution_count": 10,
   "metadata": {},
   "outputs": [],
   "source": [
    "df['timesPlayed']=df['trackName'].map(df['trackName'].value_counts())"
   ]
  },
  {
   "cell_type": "code",
   "execution_count": 11,
   "metadata": {},
   "outputs": [],
   "source": [
    "df['Year'] = pd.DatetimeIndex(df['endTime']).year\n",
    "df['Month'] = pd.DatetimeIndex(df['endTime']).month"
   ]
  },
  {
   "cell_type": "code",
   "execution_count": 12,
   "metadata": {},
   "outputs": [
    {
     "data": {
      "text/html": [
       "<div>\n",
       "<style scoped>\n",
       "    .dataframe tbody tr th:only-of-type {\n",
       "        vertical-align: middle;\n",
       "    }\n",
       "\n",
       "    .dataframe tbody tr th {\n",
       "        vertical-align: top;\n",
       "    }\n",
       "\n",
       "    .dataframe thead th {\n",
       "        text-align: right;\n",
       "    }\n",
       "</style>\n",
       "<table border=\"1\" class=\"dataframe\">\n",
       "  <thead>\n",
       "    <tr style=\"text-align: right;\">\n",
       "      <th></th>\n",
       "      <th>endTime</th>\n",
       "      <th>artistName</th>\n",
       "      <th>trackName</th>\n",
       "      <th>msPlayed</th>\n",
       "      <th>timesPlayed</th>\n",
       "      <th>Year</th>\n",
       "      <th>Month</th>\n",
       "    </tr>\n",
       "  </thead>\n",
       "  <tbody>\n",
       "    <tr>\n",
       "      <th>5721</th>\n",
       "      <td>2020-12-07 13:43:00</td>\n",
       "      <td>MGMT</td>\n",
       "      <td>Congratulations</td>\n",
       "      <td>235386</td>\n",
       "      <td>2</td>\n",
       "      <td>2020</td>\n",
       "      <td>12</td>\n",
       "    </tr>\n",
       "    <tr>\n",
       "      <th>5722</th>\n",
       "      <td>2020-12-07 13:46:00</td>\n",
       "      <td>Red Hot Chili Peppers</td>\n",
       "      <td>Higher Ground - Remastered</td>\n",
       "      <td>202053</td>\n",
       "      <td>15</td>\n",
       "      <td>2020</td>\n",
       "      <td>12</td>\n",
       "    </tr>\n",
       "    <tr>\n",
       "      <th>5723</th>\n",
       "      <td>2020-12-07 13:51:00</td>\n",
       "      <td>Blur</td>\n",
       "      <td>Ghost Ship</td>\n",
       "      <td>299133</td>\n",
       "      <td>49</td>\n",
       "      <td>2020</td>\n",
       "      <td>12</td>\n",
       "    </tr>\n",
       "    <tr>\n",
       "      <th>5724</th>\n",
       "      <td>2020-12-07 13:55:00</td>\n",
       "      <td>Daft Punk</td>\n",
       "      <td>Something About Us</td>\n",
       "      <td>232666</td>\n",
       "      <td>43</td>\n",
       "      <td>2020</td>\n",
       "      <td>12</td>\n",
       "    </tr>\n",
       "    <tr>\n",
       "      <th>5725</th>\n",
       "      <td>2020-12-07 13:59:00</td>\n",
       "      <td>Shuggie Otis</td>\n",
       "      <td>Strawberry Letter 23</td>\n",
       "      <td>239906</td>\n",
       "      <td>1</td>\n",
       "      <td>2020</td>\n",
       "      <td>12</td>\n",
       "    </tr>\n",
       "    <tr>\n",
       "      <th>5726</th>\n",
       "      <td>2020-12-07 14:05:00</td>\n",
       "      <td>Khruangbin</td>\n",
       "      <td>Time (You and I)</td>\n",
       "      <td>342189</td>\n",
       "      <td>1</td>\n",
       "      <td>2020</td>\n",
       "      <td>12</td>\n",
       "    </tr>\n",
       "    <tr>\n",
       "      <th>5727</th>\n",
       "      <td>2020-12-07 14:09:00</td>\n",
       "      <td>Pond</td>\n",
       "      <td>Paint Me Silver</td>\n",
       "      <td>224973</td>\n",
       "      <td>4</td>\n",
       "      <td>2020</td>\n",
       "      <td>12</td>\n",
       "    </tr>\n",
       "    <tr>\n",
       "      <th>5728</th>\n",
       "      <td>2020-12-07 14:12:00</td>\n",
       "      <td>The Growlers</td>\n",
       "      <td>City Club</td>\n",
       "      <td>196728</td>\n",
       "      <td>4</td>\n",
       "      <td>2020</td>\n",
       "      <td>12</td>\n",
       "    </tr>\n",
       "    <tr>\n",
       "      <th>5729</th>\n",
       "      <td>2020-12-07 14:15:00</td>\n",
       "      <td>Wolfmother</td>\n",
       "      <td>Woman</td>\n",
       "      <td>175666</td>\n",
       "      <td>1</td>\n",
       "      <td>2020</td>\n",
       "      <td>12</td>\n",
       "    </tr>\n",
       "    <tr>\n",
       "      <th>5730</th>\n",
       "      <td>2020-12-07 14:18:00</td>\n",
       "      <td>Bloc Party</td>\n",
       "      <td>Banquet</td>\n",
       "      <td>201360</td>\n",
       "      <td>4</td>\n",
       "      <td>2020</td>\n",
       "      <td>12</td>\n",
       "    </tr>\n",
       "    <tr>\n",
       "      <th>5731</th>\n",
       "      <td>2020-12-07 14:24:00</td>\n",
       "      <td>The Voidz</td>\n",
       "      <td>Pink Ocean</td>\n",
       "      <td>326706</td>\n",
       "      <td>37</td>\n",
       "      <td>2020</td>\n",
       "      <td>12</td>\n",
       "    </tr>\n",
       "    <tr>\n",
       "      <th>5732</th>\n",
       "      <td>2020-12-07 14:26:00</td>\n",
       "      <td>The Fearless Flyers</td>\n",
       "      <td>Ace of Aces</td>\n",
       "      <td>124565</td>\n",
       "      <td>1</td>\n",
       "      <td>2020</td>\n",
       "      <td>12</td>\n",
       "    </tr>\n",
       "    <tr>\n",
       "      <th>5733</th>\n",
       "      <td>2020-12-07 19:37:00</td>\n",
       "      <td>Allah-Las</td>\n",
       "      <td>Catamaran</td>\n",
       "      <td>198762</td>\n",
       "      <td>2</td>\n",
       "      <td>2020</td>\n",
       "      <td>12</td>\n",
       "    </tr>\n",
       "    <tr>\n",
       "      <th>5734</th>\n",
       "      <td>2020-12-07 19:38:00</td>\n",
       "      <td>Tame Impala</td>\n",
       "      <td>Borderline</td>\n",
       "      <td>1486</td>\n",
       "      <td>60</td>\n",
       "      <td>2020</td>\n",
       "      <td>12</td>\n",
       "    </tr>\n",
       "    <tr>\n",
       "      <th>5736</th>\n",
       "      <td>2020-12-07 19:39:00</td>\n",
       "      <td>Mac DeMarco</td>\n",
       "      <td>Salad Days</td>\n",
       "      <td>8080</td>\n",
       "      <td>3</td>\n",
       "      <td>2020</td>\n",
       "      <td>12</td>\n",
       "    </tr>\n",
       "    <tr>\n",
       "      <th>5737</th>\n",
       "      <td>2020-12-07 19:39:00</td>\n",
       "      <td>!!!</td>\n",
       "      <td>Yadnus</td>\n",
       "      <td>2948</td>\n",
       "      <td>63</td>\n",
       "      <td>2020</td>\n",
       "      <td>12</td>\n",
       "    </tr>\n",
       "    <tr>\n",
       "      <th>5738</th>\n",
       "      <td>2020-12-07 19:42:00</td>\n",
       "      <td>Arctic Monkeys</td>\n",
       "      <td>No Buses</td>\n",
       "      <td>197320</td>\n",
       "      <td>34</td>\n",
       "      <td>2020</td>\n",
       "      <td>12</td>\n",
       "    </tr>\n",
       "    <tr>\n",
       "      <th>5739</th>\n",
       "      <td>2020-12-07 19:46:00</td>\n",
       "      <td>Lockhart</td>\n",
       "      <td>Femme Fantôme</td>\n",
       "      <td>228214</td>\n",
       "      <td>27</td>\n",
       "      <td>2020</td>\n",
       "      <td>12</td>\n",
       "    </tr>\n",
       "    <tr>\n",
       "      <th>5740</th>\n",
       "      <td>2020-12-07 19:48:00</td>\n",
       "      <td>Freddie Dredd</td>\n",
       "      <td>Opaul</td>\n",
       "      <td>140487</td>\n",
       "      <td>44</td>\n",
       "      <td>2020</td>\n",
       "      <td>12</td>\n",
       "    </tr>\n",
       "    <tr>\n",
       "      <th>5741</th>\n",
       "      <td>2020-12-07 19:52:00</td>\n",
       "      <td>The Black Keys</td>\n",
       "      <td>Turn Blue</td>\n",
       "      <td>222960</td>\n",
       "      <td>30</td>\n",
       "      <td>2020</td>\n",
       "      <td>12</td>\n",
       "    </tr>\n",
       "    <tr>\n",
       "      <th>5742</th>\n",
       "      <td>2020-12-07 19:56:00</td>\n",
       "      <td>Jake Bugg</td>\n",
       "      <td>Rabbit Hole</td>\n",
       "      <td>183778</td>\n",
       "      <td>28</td>\n",
       "      <td>2020</td>\n",
       "      <td>12</td>\n",
       "    </tr>\n",
       "    <tr>\n",
       "      <th>5743</th>\n",
       "      <td>2020-12-07 19:56:00</td>\n",
       "      <td>Rejjie Snow</td>\n",
       "      <td>23</td>\n",
       "      <td>8569</td>\n",
       "      <td>35</td>\n",
       "      <td>2020</td>\n",
       "      <td>12</td>\n",
       "    </tr>\n",
       "    <tr>\n",
       "      <th>5744</th>\n",
       "      <td>2020-12-07 20:02:00</td>\n",
       "      <td>The Strokes</td>\n",
       "      <td>Eternal Summer</td>\n",
       "      <td>375320</td>\n",
       "      <td>29</td>\n",
       "      <td>2020</td>\n",
       "      <td>12</td>\n",
       "    </tr>\n",
       "    <tr>\n",
       "      <th>5745</th>\n",
       "      <td>2020-12-07 20:07:00</td>\n",
       "      <td>black midi</td>\n",
       "      <td>bmbmbm</td>\n",
       "      <td>296746</td>\n",
       "      <td>35</td>\n",
       "      <td>2020</td>\n",
       "      <td>12</td>\n",
       "    </tr>\n",
       "    <tr>\n",
       "      <th>5746</th>\n",
       "      <td>2020-12-07 20:16:00</td>\n",
       "      <td>Abhi The Nomad</td>\n",
       "      <td>Sex n' Drugs</td>\n",
       "      <td>217777</td>\n",
       "      <td>31</td>\n",
       "      <td>2020</td>\n",
       "      <td>12</td>\n",
       "    </tr>\n",
       "  </tbody>\n",
       "</table>\n",
       "</div>"
      ],
      "text/plain": [
       "                 endTime             artistName                   trackName  \\\n",
       "5721 2020-12-07 13:43:00                   MGMT             Congratulations   \n",
       "5722 2020-12-07 13:46:00  Red Hot Chili Peppers  Higher Ground - Remastered   \n",
       "5723 2020-12-07 13:51:00                   Blur                  Ghost Ship   \n",
       "5724 2020-12-07 13:55:00              Daft Punk          Something About Us   \n",
       "5725 2020-12-07 13:59:00           Shuggie Otis        Strawberry Letter 23   \n",
       "5726 2020-12-07 14:05:00             Khruangbin            Time (You and I)   \n",
       "5727 2020-12-07 14:09:00                   Pond             Paint Me Silver   \n",
       "5728 2020-12-07 14:12:00           The Growlers                   City Club   \n",
       "5729 2020-12-07 14:15:00             Wolfmother                       Woman   \n",
       "5730 2020-12-07 14:18:00             Bloc Party                     Banquet   \n",
       "5731 2020-12-07 14:24:00              The Voidz                  Pink Ocean   \n",
       "5732 2020-12-07 14:26:00    The Fearless Flyers                 Ace of Aces   \n",
       "5733 2020-12-07 19:37:00              Allah-Las                   Catamaran   \n",
       "5734 2020-12-07 19:38:00            Tame Impala                  Borderline   \n",
       "5736 2020-12-07 19:39:00            Mac DeMarco                  Salad Days   \n",
       "5737 2020-12-07 19:39:00                    !!!                      Yadnus   \n",
       "5738 2020-12-07 19:42:00         Arctic Monkeys                    No Buses   \n",
       "5739 2020-12-07 19:46:00               Lockhart               Femme Fantôme   \n",
       "5740 2020-12-07 19:48:00          Freddie Dredd                       Opaul   \n",
       "5741 2020-12-07 19:52:00         The Black Keys                   Turn Blue   \n",
       "5742 2020-12-07 19:56:00              Jake Bugg                 Rabbit Hole   \n",
       "5743 2020-12-07 19:56:00            Rejjie Snow                          23   \n",
       "5744 2020-12-07 20:02:00            The Strokes              Eternal Summer   \n",
       "5745 2020-12-07 20:07:00             black midi                      bmbmbm   \n",
       "5746 2020-12-07 20:16:00         Abhi The Nomad                Sex n' Drugs   \n",
       "\n",
       "      msPlayed  timesPlayed  Year  Month  \n",
       "5721    235386            2  2020     12  \n",
       "5722    202053           15  2020     12  \n",
       "5723    299133           49  2020     12  \n",
       "5724    232666           43  2020     12  \n",
       "5725    239906            1  2020     12  \n",
       "5726    342189            1  2020     12  \n",
       "5727    224973            4  2020     12  \n",
       "5728    196728            4  2020     12  \n",
       "5729    175666            1  2020     12  \n",
       "5730    201360            4  2020     12  \n",
       "5731    326706           37  2020     12  \n",
       "5732    124565            1  2020     12  \n",
       "5733    198762            2  2020     12  \n",
       "5734      1486           60  2020     12  \n",
       "5736      8080            3  2020     12  \n",
       "5737      2948           63  2020     12  \n",
       "5738    197320           34  2020     12  \n",
       "5739    228214           27  2020     12  \n",
       "5740    140487           44  2020     12  \n",
       "5741    222960           30  2020     12  \n",
       "5742    183778           28  2020     12  \n",
       "5743      8569           35  2020     12  \n",
       "5744    375320           29  2020     12  \n",
       "5745    296746           35  2020     12  \n",
       "5746    217777           31  2020     12  "
      ]
     },
     "execution_count": 12,
     "metadata": {},
     "output_type": "execute_result"
    }
   ],
   "source": [
    "df.tail(25)"
   ]
  },
  {
   "cell_type": "markdown",
   "metadata": {
    "id": "ou3rcehnNioa"
   },
   "source": [
    "## Spotiy authorization"
   ]
  },
  {
   "cell_type": "code",
   "execution_count": 13,
   "metadata": {
    "id": "P3_bgI8b3OeI"
   },
   "outputs": [],
   "source": [
    "client_id= \"3bd02289c7fc487f9f57235e393dc2fe\"\n",
    "client_secret= '194bc5d8f14b405d8d92fc2bee38c0fb'\n",
    "username= \"1196124016\"\n",
    "client_credentials_manager = SpotifyClientCredentials(client_id=client_id, client_secret=client_secret)\n",
    "\n",
    "sp = spotipy.Spotify(client_credentials_manager=client_credentials_manager) #spotify object to access API"
   ]
  },
  {
   "cell_type": "code",
   "execution_count": 14,
   "metadata": {
    "id": "OrrctW265J5x"
   },
   "outputs": [],
   "source": [
    "scope = \"user-library-read user-read-recently-played user-top-read playlist-modify-public playlist-read-private playlist-read-collaborative\"\n",
    "redirect_uri= \"http://127.0.0.1:8080\""
   ]
  },
  {
   "cell_type": "code",
   "execution_count": 15,
   "metadata": {
    "id": "HSeXJe8m65ti"
   },
   "outputs": [],
   "source": [
    "spotify = spotipy.Spotify(\n",
    "    auth_manager=SpotifyOAuth(\n",
    "        client_id=client_id,\n",
    "        client_secret= client_secret,\n",
    "        redirect_uri=redirect_uri,\n",
    "        scope=scope,\n",
    "        cache_handler=CacheFileHandler(username=username)\n",
    "    )\n",
    ")\n"
   ]
  },
  {
   "cell_type": "code",
   "execution_count": 16,
   "metadata": {
    "id": "cCo1aL8VG4Uy"
   },
   "outputs": [],
   "source": [
    "def authenticate(redirect_uri, client_cred_manager, username, scope,client_id,client_secret):\n",
    "    \"\"\"\n",
    "    Authenticates a user for a given spotify app.\n",
    "    Parameters\n",
    "    ----------\n",
    "    redirect_uri : the redirect uri of the spotify app\n",
    "    client_cred_manager : SpotifyClientCredentials containing client_id and client_secret\n",
    "    username: spotify username\n",
    "    scope: authorization scopes as a string\n",
    "    client_id: spotify app client_id \n",
    "    client_secret: spotify app client_secret\n",
    "    Returns\n",
    "    -------\n",
    "    sp: Spotify auth-token (SpotifyOAuth)\n",
    "    \"\"\"\n",
    "\n",
    "    sp = spotipy.Spotify(client_credentials_manager = client_cred_manager)\n",
    "    token = util.prompt_for_user_token(username, scope, client_id, client_secret, redirect_uri)\n",
    "    \n",
    "    if token:\n",
    "        sp = spotipy.Spotify(auth=token)\n",
    "    else:\n",
    "        print(\"Can't get token for\", username)\n",
    "    return sp"
   ]
  },
  {
   "cell_type": "code",
   "execution_count": 20,
   "metadata": {},
   "outputs": [],
   "source": [
    "token = util.prompt_for_user_token(username, scope, client_id, client_secret, redirect_uri)"
   ]
  },
  {
   "cell_type": "code",
   "execution_count": 17,
   "metadata": {
    "id": "bjzMaJQsasP2"
   },
   "outputs": [
    {
     "data": {
      "text/plain": [
       "<spotipy.client.Spotify at 0x7fa5527b5050>"
      ]
     },
     "execution_count": 17,
     "metadata": {},
     "output_type": "execute_result"
    }
   ],
   "source": [
    "authenticate(redirect_uri, client_credentials_manager, username,scope, client_id, client_secret)"
   ]
  },
  {
   "cell_type": "code",
   "execution_count": 18,
   "metadata": {},
   "outputs": [],
   "source": [
    "def get_id(track_name: str, token: str, artist:str) -> str:\n",
    "    headers = {\n",
    "        'Accept': 'application/json',\n",
    "        'Content-Type': 'application/json',\n",
    "        'Authorization': f'Bearer ' + token,\n",
    "    }\n",
    "    params = [\n",
    "        ('q', track_name),\n",
    "        ('type','track')\n",
    "    ]\n",
    "    try: \n",
    "        response = requests.get('https://api.spotify.com/v1/search', \n",
    "                    headers = headers, params = params, timeout = 5)\n",
    "        json = response.json()\n",
    "        first_result = json['tracks']['items'][0]\n",
    "        track_id = first_result['id']\n",
    "        return track_id\n",
    "    except:\n",
    "        return None\n"
   ]
  },
  {
   "cell_type": "code",
   "execution_count": 21,
   "metadata": {},
   "outputs": [
    {
     "data": {
      "text/plain": [
       "'0yMlW5eLp8T9E2u5BXuST2'"
      ]
     },
     "execution_count": 21,
     "metadata": {},
     "output_type": "execute_result"
    }
   ],
   "source": [
    "ibet = get_id(\"I Bet That You Look Good on the Dancefloor\", token, \"Arctic Monkeys\")\n",
    "ibet"
   ]
  },
  {
   "cell_type": "code",
   "execution_count": 22,
   "metadata": {},
   "outputs": [],
   "source": [
    "def get_features(track_id: str, token: str) -> dict:\n",
    "    sp = spotipy.Spotify(auth=token)\n",
    "    try:\n",
    "        features = sp.audio_features([track_id])\n",
    "        return features[0]\n",
    "    except:\n",
    "        return None"
   ]
  },
  {
   "cell_type": "code",
   "execution_count": 23,
   "metadata": {},
   "outputs": [],
   "source": [
    "ibet_features= get_features(ibet, token)"
   ]
  },
  {
   "cell_type": "code",
   "execution_count": 24,
   "metadata": {},
   "outputs": [
    {
     "data": {
      "text/plain": [
       "{'danceability': 0.408,\n",
       " 'energy': 0.628,\n",
       " 'key': 0,\n",
       " 'loudness': -5.992,\n",
       " 'mode': 0,\n",
       " 'speechiness': 0.0371,\n",
       " 'acousticness': 0.283,\n",
       " 'instrumentalness': 0,\n",
       " 'liveness': 0.0457,\n",
       " 'valence': 0.409,\n",
       " 'tempo': 111.396,\n",
       " 'type': 'audio_features',\n",
       " 'id': '0yMlW5eLp8T9E2u5BXuST2',\n",
       " 'uri': 'spotify:track:0yMlW5eLp8T9E2u5BXuST2',\n",
       " 'track_href': 'https://api.spotify.com/v1/tracks/0yMlW5eLp8T9E2u5BXuST2',\n",
       " 'analysis_url': 'https://api.spotify.com/v1/audio-analysis/0yMlW5eLp8T9E2u5BXuST2',\n",
       " 'duration_ms': 308310,\n",
       " 'time_signature': 4}"
      ]
     },
     "execution_count": 24,
     "metadata": {},
     "output_type": "execute_result"
    }
   ],
   "source": [
    "ibet_features"
   ]
  },
  {
   "cell_type": "code",
   "execution_count": 25,
   "metadata": {},
   "outputs": [
    {
     "name": "stderr",
     "output_type": "stream",
     "text": [
      "HTTP Error for GET to https://api.spotify.com/v1/me/ returned 401 due to Unauthorized.\n"
     ]
    },
    {
     "ename": "SpotifyException",
     "evalue": "http status: 401, code:-1 - https://api.spotify.com/v1/me/:\n Unauthorized., reason: None",
     "output_type": "error",
     "traceback": [
      "\u001b[0;31m---------------------------------------------------------------------------\u001b[0m",
      "\u001b[0;31mHTTPError\u001b[0m                                 Traceback (most recent call last)",
      "\u001b[0;32m~/opt/anaconda3/lib/python3.7/site-packages/spotipy/client.py\u001b[0m in \u001b[0;36m_internal_call\u001b[0;34m(self, method, url, payload, params)\u001b[0m\n\u001b[1;32m    244\u001b[0m \u001b[0;34m\u001b[0m\u001b[0m\n\u001b[0;32m--> 245\u001b[0;31m             \u001b[0mresponse\u001b[0m\u001b[0;34m.\u001b[0m\u001b[0mraise_for_status\u001b[0m\u001b[0;34m(\u001b[0m\u001b[0;34m)\u001b[0m\u001b[0;34m\u001b[0m\u001b[0;34m\u001b[0m\u001b[0m\n\u001b[0m\u001b[1;32m    246\u001b[0m             \u001b[0mresults\u001b[0m \u001b[0;34m=\u001b[0m \u001b[0mresponse\u001b[0m\u001b[0;34m.\u001b[0m\u001b[0mjson\u001b[0m\u001b[0;34m(\u001b[0m\u001b[0;34m)\u001b[0m\u001b[0;34m\u001b[0m\u001b[0;34m\u001b[0m\u001b[0m\n",
      "\u001b[0;32m~/opt/anaconda3/lib/python3.7/site-packages/requests/models.py\u001b[0m in \u001b[0;36mraise_for_status\u001b[0;34m(self)\u001b[0m\n\u001b[1;32m    942\u001b[0m         \u001b[0;32mif\u001b[0m \u001b[0mhttp_error_msg\u001b[0m\u001b[0;34m:\u001b[0m\u001b[0;34m\u001b[0m\u001b[0;34m\u001b[0m\u001b[0m\n\u001b[0;32m--> 943\u001b[0;31m             \u001b[0;32mraise\u001b[0m \u001b[0mHTTPError\u001b[0m\u001b[0;34m(\u001b[0m\u001b[0mhttp_error_msg\u001b[0m\u001b[0;34m,\u001b[0m \u001b[0mresponse\u001b[0m\u001b[0;34m=\u001b[0m\u001b[0mself\u001b[0m\u001b[0;34m)\u001b[0m\u001b[0;34m\u001b[0m\u001b[0;34m\u001b[0m\u001b[0m\n\u001b[0m\u001b[1;32m    944\u001b[0m \u001b[0;34m\u001b[0m\u001b[0m\n",
      "\u001b[0;31mHTTPError\u001b[0m: 401 Client Error: Unauthorized for url: https://api.spotify.com/v1/me/",
      "\nDuring handling of the above exception, another exception occurred:\n",
      "\u001b[0;31mSpotifyException\u001b[0m                          Traceback (most recent call last)",
      "\u001b[0;32m<ipython-input-25-eec24a7da0da>\u001b[0m in \u001b[0;36m<module>\u001b[0;34m\u001b[0m\n\u001b[0;32m----> 1\u001b[0;31m \u001b[0muser\u001b[0m\u001b[0;34m=\u001b[0m \u001b[0msp\u001b[0m\u001b[0;34m.\u001b[0m\u001b[0mcurrent_user\u001b[0m\u001b[0;34m(\u001b[0m\u001b[0;34m)\u001b[0m\u001b[0;34m\u001b[0m\u001b[0;34m\u001b[0m\u001b[0m\n\u001b[0m",
      "\u001b[0;32m~/opt/anaconda3/lib/python3.7/site-packages/spotipy/client.py\u001b[0m in \u001b[0;36mcurrent_user\u001b[0;34m(self)\u001b[0m\n\u001b[1;32m   1165\u001b[0m             \u001b[0mAn\u001b[0m \u001b[0malias\u001b[0m \u001b[0;32mfor\u001b[0m \u001b[0mthe\u001b[0m \u001b[0;34m'me'\u001b[0m \u001b[0mmethod\u001b[0m\u001b[0;34m.\u001b[0m\u001b[0;34m\u001b[0m\u001b[0;34m\u001b[0m\u001b[0m\n\u001b[1;32m   1166\u001b[0m         \"\"\"\n\u001b[0;32m-> 1167\u001b[0;31m         \u001b[0;32mreturn\u001b[0m \u001b[0mself\u001b[0m\u001b[0;34m.\u001b[0m\u001b[0mme\u001b[0m\u001b[0;34m(\u001b[0m\u001b[0;34m)\u001b[0m\u001b[0;34m\u001b[0m\u001b[0;34m\u001b[0m\u001b[0m\n\u001b[0m\u001b[1;32m   1168\u001b[0m \u001b[0;34m\u001b[0m\u001b[0m\n\u001b[1;32m   1169\u001b[0m     \u001b[0;32mdef\u001b[0m \u001b[0mcurrent_user_playing_track\u001b[0m\u001b[0;34m(\u001b[0m\u001b[0mself\u001b[0m\u001b[0;34m)\u001b[0m\u001b[0;34m:\u001b[0m\u001b[0;34m\u001b[0m\u001b[0;34m\u001b[0m\u001b[0m\n",
      "\u001b[0;32m~/opt/anaconda3/lib/python3.7/site-packages/spotipy/client.py\u001b[0m in \u001b[0;36mme\u001b[0;34m(self)\u001b[0m\n\u001b[1;32m   1159\u001b[0m             \u001b[0mAn\u001b[0m \u001b[0malias\u001b[0m \u001b[0;32mfor\u001b[0m \u001b[0mthe\u001b[0m \u001b[0;34m'current_user'\u001b[0m \u001b[0mmethod\u001b[0m\u001b[0;34m.\u001b[0m\u001b[0;34m\u001b[0m\u001b[0;34m\u001b[0m\u001b[0m\n\u001b[1;32m   1160\u001b[0m         \"\"\"\n\u001b[0;32m-> 1161\u001b[0;31m         \u001b[0;32mreturn\u001b[0m \u001b[0mself\u001b[0m\u001b[0;34m.\u001b[0m\u001b[0m_get\u001b[0m\u001b[0;34m(\u001b[0m\u001b[0;34m\"me/\"\u001b[0m\u001b[0;34m)\u001b[0m\u001b[0;34m\u001b[0m\u001b[0;34m\u001b[0m\u001b[0m\n\u001b[0m\u001b[1;32m   1162\u001b[0m \u001b[0;34m\u001b[0m\u001b[0m\n\u001b[1;32m   1163\u001b[0m     \u001b[0;32mdef\u001b[0m \u001b[0mcurrent_user\u001b[0m\u001b[0;34m(\u001b[0m\u001b[0mself\u001b[0m\u001b[0;34m)\u001b[0m\u001b[0;34m:\u001b[0m\u001b[0;34m\u001b[0m\u001b[0;34m\u001b[0m\u001b[0m\n",
      "\u001b[0;32m~/opt/anaconda3/lib/python3.7/site-packages/spotipy/client.py\u001b[0m in \u001b[0;36m_get\u001b[0;34m(self, url, args, payload, **kwargs)\u001b[0m\n\u001b[1;32m    289\u001b[0m             \u001b[0mkwargs\u001b[0m\u001b[0;34m.\u001b[0m\u001b[0mupdate\u001b[0m\u001b[0;34m(\u001b[0m\u001b[0margs\u001b[0m\u001b[0;34m)\u001b[0m\u001b[0;34m\u001b[0m\u001b[0;34m\u001b[0m\u001b[0m\n\u001b[1;32m    290\u001b[0m \u001b[0;34m\u001b[0m\u001b[0m\n\u001b[0;32m--> 291\u001b[0;31m         \u001b[0;32mreturn\u001b[0m \u001b[0mself\u001b[0m\u001b[0;34m.\u001b[0m\u001b[0m_internal_call\u001b[0m\u001b[0;34m(\u001b[0m\u001b[0;34m\"GET\"\u001b[0m\u001b[0;34m,\u001b[0m \u001b[0murl\u001b[0m\u001b[0;34m,\u001b[0m \u001b[0mpayload\u001b[0m\u001b[0;34m,\u001b[0m \u001b[0mkwargs\u001b[0m\u001b[0;34m)\u001b[0m\u001b[0;34m\u001b[0m\u001b[0;34m\u001b[0m\u001b[0m\n\u001b[0m\u001b[1;32m    292\u001b[0m \u001b[0;34m\u001b[0m\u001b[0m\n\u001b[1;32m    293\u001b[0m     \u001b[0;32mdef\u001b[0m \u001b[0m_post\u001b[0m\u001b[0;34m(\u001b[0m\u001b[0mself\u001b[0m\u001b[0;34m,\u001b[0m \u001b[0murl\u001b[0m\u001b[0;34m,\u001b[0m \u001b[0margs\u001b[0m\u001b[0;34m=\u001b[0m\u001b[0;32mNone\u001b[0m\u001b[0;34m,\u001b[0m \u001b[0mpayload\u001b[0m\u001b[0;34m=\u001b[0m\u001b[0;32mNone\u001b[0m\u001b[0;34m,\u001b[0m \u001b[0;34m**\u001b[0m\u001b[0mkwargs\u001b[0m\u001b[0;34m)\u001b[0m\u001b[0;34m:\u001b[0m\u001b[0;34m\u001b[0m\u001b[0;34m\u001b[0m\u001b[0m\n",
      "\u001b[0;32m~/opt/anaconda3/lib/python3.7/site-packages/spotipy/client.py\u001b[0m in \u001b[0;36m_internal_call\u001b[0;34m(self, method, url, payload, params)\u001b[0m\n\u001b[1;32m    264\u001b[0m                 \u001b[0;34m\"%s:\\n %s\"\u001b[0m \u001b[0;34m%\u001b[0m \u001b[0;34m(\u001b[0m\u001b[0mresponse\u001b[0m\u001b[0;34m.\u001b[0m\u001b[0murl\u001b[0m\u001b[0;34m,\u001b[0m \u001b[0mmsg\u001b[0m\u001b[0;34m)\u001b[0m\u001b[0;34m,\u001b[0m\u001b[0;34m\u001b[0m\u001b[0;34m\u001b[0m\u001b[0m\n\u001b[1;32m    265\u001b[0m                 \u001b[0mreason\u001b[0m\u001b[0;34m=\u001b[0m\u001b[0mreason\u001b[0m\u001b[0;34m,\u001b[0m\u001b[0;34m\u001b[0m\u001b[0;34m\u001b[0m\u001b[0m\n\u001b[0;32m--> 266\u001b[0;31m                 \u001b[0mheaders\u001b[0m\u001b[0;34m=\u001b[0m\u001b[0mresponse\u001b[0m\u001b[0;34m.\u001b[0m\u001b[0mheaders\u001b[0m\u001b[0;34m,\u001b[0m\u001b[0;34m\u001b[0m\u001b[0;34m\u001b[0m\u001b[0m\n\u001b[0m\u001b[1;32m    267\u001b[0m             )\n\u001b[1;32m    268\u001b[0m         \u001b[0;32mexcept\u001b[0m \u001b[0mrequests\u001b[0m\u001b[0;34m.\u001b[0m\u001b[0mexceptions\u001b[0m\u001b[0;34m.\u001b[0m\u001b[0mRetryError\u001b[0m \u001b[0;32mas\u001b[0m \u001b[0mretry_error\u001b[0m\u001b[0;34m:\u001b[0m\u001b[0;34m\u001b[0m\u001b[0;34m\u001b[0m\u001b[0m\n",
      "\u001b[0;31mSpotifyException\u001b[0m: http status: 401, code:-1 - https://api.spotify.com/v1/me/:\n Unauthorized., reason: None"
     ]
    }
   ],
   "source": [
    "user= sp.current_user()"
   ]
  },
  {
   "cell_type": "code",
   "execution_count": null,
   "metadata": {},
   "outputs": [],
   "source": []
  }
 ],
 "metadata": {
  "colab": {
   "name": "Untitled-checkpoint.ipynb",
   "provenance": []
  },
  "kernelspec": {
   "display_name": "Python 3",
   "language": "python",
   "name": "python3"
  },
  "language_info": {
   "codemirror_mode": {
    "name": "ipython",
    "version": 3
   },
   "file_extension": ".py",
   "mimetype": "text/x-python",
   "name": "python",
   "nbconvert_exporter": "python",
   "pygments_lexer": "ipython3",
   "version": "3.7.6"
  }
 },
 "nbformat": 4,
 "nbformat_minor": 1
}
