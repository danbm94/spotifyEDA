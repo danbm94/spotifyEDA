{
 "cells": [
  {
   "cell_type": "markdown",
   "metadata": {},
   "source": [
    "# Spotify Streaming History"
   ]
  },
  {
   "cell_type": "code",
   "execution_count": 1,
   "metadata": {},
   "outputs": [],
   "source": [
    "import pandas as pd \n",
    "import numpy as np \n",
    "import ast\n",
    "from typing import List\n",
    "from os import listdir"
   ]
  },
  {
   "cell_type": "code",
   "execution_count": null,
   "metadata": {},
   "outputs": [],
   "source": [
    "def get_streaming(path: str = \"MyData\") -> List[dict]:\n",
    "  files = ['MyData'+ x for x in listdir(path)\n",
    "        if x.split('.')[0][:-1]== \"StreamingHistory\"]\n",
    "\n",
    "  all_streamings = []\n",
    "\n",
    "  for file in files:\n",
    "    with open (file, 'r',encoding='UTF-8') as f:\n",
    "      new_streamings= ast.literal_eval(f.read())\n",
    "      all_streamings += [streaming for streaming \n",
    "                          in new_streamings]\n",
    "  return all_streamings "
   ]
  }
 ],
 "metadata": {
  "kernelspec": {
   "display_name": "Python 3",
   "language": "python",
   "name": "python3"
  },
  "language_info": {
   "codemirror_mode": {
    "name": "ipython",
    "version": 3
   },
   "file_extension": ".py",
   "mimetype": "text/x-python",
   "name": "python",
   "nbconvert_exporter": "python",
   "pygments_lexer": "ipython3",
   "version": "3.7.6"
  }
 },
 "nbformat": 4,
 "nbformat_minor": 4
}
